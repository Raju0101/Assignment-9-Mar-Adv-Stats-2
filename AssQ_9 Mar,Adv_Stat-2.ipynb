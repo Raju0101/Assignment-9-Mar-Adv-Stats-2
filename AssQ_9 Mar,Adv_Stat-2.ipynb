{
 "cells": [
  {
   "cell_type": "markdown",
   "id": "fab67ed6-5a07-42f9-bdf1-55c0dc42eb2a",
   "metadata": {},
   "source": [
    "#Assignment 9-March,Adv Stats- Assq-2"
   ]
  },
  {
   "cell_type": "code",
   "execution_count": 1,
   "id": "7f6c132d-9510-49c7-a468-d5a8c8705fd0",
   "metadata": {},
   "outputs": [],
   "source": [
    "# Q1: What are the Probability Mass Function (PMF) and Probability Density Function (PDF)? Explain with an example."
   ]
  },
  {
   "cell_type": "code",
   "execution_count": null,
   "id": "72a854da-2e4f-4894-994a-32fc1a73df1a",
   "metadata": {},
   "outputs": [],
   "source": [
    "# Probability Mass Function (PMF):-\n",
    "# The probability mass function P(X = x) = f(x) of a discrete random variable is a function that \n",
    "# satisfies the following properties:    P(X = x) = f(x) > 0; if x ∈ Range of x that supports.\n",
    "# Example- Rolling a Dice.\n",
    "\n",
    "# probability density function:-\n",
    "# probability density function (PDF), It is a function whose integral is calculated to \n",
    "# find probabilities associated with a continuous random variable\n",
    "\n",
    "#  PDF is used to define the random variable's probability coming within a distinct range of values,\n",
    "# as opposed to taking on any one value. The function explains the probability density function of normal\n",
    "# distribution and how mean and deviation exists.\n",
    "## Example- Height of students in the class.\n"
   ]
  },
  {
   "cell_type": "code",
   "execution_count": null,
   "id": "de490f9d-b7ac-4de3-87e2-0892bd1d0f1d",
   "metadata": {},
   "outputs": [],
   "source": []
  },
  {
   "cell_type": "code",
   "execution_count": 2,
   "id": "efaa8a87-8cea-488d-b593-b92a987db670",
   "metadata": {},
   "outputs": [],
   "source": [
    "# Q2: What is Cumulative Density Function (CDF)? Explain with an example. Why CDF is used?"
   ]
  },
  {
   "cell_type": "code",
   "execution_count": null,
   "id": "e120468d-4c64-4929-b296-44b617182989",
   "metadata": {},
   "outputs": [],
   "source": [
    "# The cumulative distribution function (CDF) of random variable X is defined as\n",
    "# FX(x) = P(X ≤ x), for all x ∈ R. Note that the subscript X indicates that this is \n",
    "# the CDF of the random variable X. Also, note that the CDF is defined for all x ∈ R.\n",
    "\n",
    "# the cumulative distribution function of a real-valued random variable X, or just distribution\n",
    "# function of X, evaluated at x, is the probability that X \n",
    "# will take a value less than or equal to x.\n",
    "\n",
    "# It is used to describe the probability distribution of random variables in a table.\n"
   ]
  },
  {
   "cell_type": "code",
   "execution_count": null,
   "id": "092cefad-3bf2-4a83-b389-f68cc3340d94",
   "metadata": {},
   "outputs": [],
   "source": []
  },
  {
   "cell_type": "code",
   "execution_count": null,
   "id": "f27ffdc0-35a0-4eee-b5d5-9ae2b831bc7a",
   "metadata": {},
   "outputs": [],
   "source": [
    "# Q3: What are some examples of situations where the normal distribution might be used as a model? \n",
    "# Explain how the parameters of the normal distribution relate to the shape of the distribution."
   ]
  },
  {
   "cell_type": "code",
   "execution_count": null,
   "id": "d92e29a5-10e6-4e61-a34a-de22e9736fc8",
   "metadata": {},
   "outputs": [],
   "source": [
    "# Let's understand the daily life examples of Normal Distribution.\n",
    "# Height. ...\n",
    "# Rolling A Dice. ...\n",
    "# Tossing A Coin. ...\n",
    "# IQ. ...\n",
    "# Technical Stock Market. ...\n",
    "# Blood Pressure. ...\n",
    "# Shoe Size. ...\n",
    "# Birth Weight.\n",
    "\n",
    "# 1 st +- Standred Deviation occupy 68% of data.\n",
    "# 2 end +- Standred Deviation occupy 95% of data.\n",
    "# 3 rd +- Standred Deviation occupy 97.7% of data.\n",
    "\n",
    "# The graph of the normal distribution is a “bell-shaped” curve\n",
    "\n",
    "# Like the normal distribution, the t-distribution has a smooth shape. Like the normal distribution, \n",
    "# the t-distribution is symmetric. If you think about folding it in half at the mean, each side will be the same. \n",
    "# Like a standard normal distribution (or z-distribution), the t-distribution has a mean of zero.\n",
    "\n"
   ]
  },
  {
   "cell_type": "code",
   "execution_count": null,
   "id": "0425dfa1-8aa3-412c-8579-346be7c89518",
   "metadata": {},
   "outputs": [],
   "source": []
  },
  {
   "cell_type": "code",
   "execution_count": 3,
   "id": "d1e26ceb-c27c-4737-b88b-171212c4057e",
   "metadata": {},
   "outputs": [],
   "source": [
    "# Q4: Explain the importance of Normal Distribution. Give a few real-life examples of Normal Distribution. "
   ]
  },
  {
   "cell_type": "code",
   "execution_count": null,
   "id": "d2c63e17-81e4-420d-b258-69438d0c6988",
   "metadata": {},
   "outputs": [],
   "source": [
    "# The normal distribution is an important probability distribution in statistics because many \n",
    "# continuous data in nature and psychology display this bell-shaped curve when compiled and graphed.\n",
    "\n",
    "# The normal distribution has the remarkable property stated in the so-called central limit theorem.\n",
    "# Mean, Median, Mode\n",
    "\n",
    "# For example, “Height of people” is something that follows a normal distribution pattern perfectly:\n",
    "# Most people are of average height, the numbers of people that are taller and shorter than average \n",
    "# are fairly equal and a very small (and still roughly equivalent) \n",
    "# number of people are either extremely tall or extremely "
   ]
  },
  {
   "cell_type": "code",
   "execution_count": null,
   "id": "2b36a393-524b-47da-86ec-4786c54f11e3",
   "metadata": {},
   "outputs": [],
   "source": []
  },
  {
   "cell_type": "code",
   "execution_count": null,
   "id": "ef00fb6d-551f-45a6-8200-0448736821b7",
   "metadata": {},
   "outputs": [],
   "source": [
    "# Q5: What is Bernaulli Distribution? Give an Example. What is the difference between Bernoulli \n",
    "# Distribution and Binomial Distribution?"
   ]
  },
  {
   "cell_type": "code",
   "execution_count": null,
   "id": "a6ffe96f-85d8-4a1b-847d-b83faa60bcac",
   "metadata": {},
   "outputs": [],
   "source": [
    "# Bernaulli Distribution:-\n",
    "# The Bernoulli distribution therefore describes events having exactly two outcomes, \n",
    "# which are ubiquitous in real life. Some examples of such events are as follows: a team\n",
    "# will win a championship or not, a student will pass or fail an exam,\n",
    "# and a rolled dice will either show a 6 or any other number.\n",
    "\n",
    "# The Bernoulli distribution represents the success or failure of a single Bernoulli trial. \n",
    "# The Binomial Distribution represents the number of successes and failures \n",
    "# in n independent Bernoulli trials for some given value of n."
   ]
  },
  {
   "cell_type": "code",
   "execution_count": null,
   "id": "89761bc0-548c-49af-b078-7e46df3024d2",
   "metadata": {},
   "outputs": [],
   "source": []
  },
  {
   "cell_type": "code",
   "execution_count": 4,
   "id": "86b1b946-973c-4707-a114-e09b7e19860e",
   "metadata": {},
   "outputs": [],
   "source": [
    "# Q7: Explain uniform Distribution with an example."
   ]
  },
  {
   "cell_type": "code",
   "execution_count": null,
   "id": "93a70a00-7fea-4db7-9d87-57eca8f8477f",
   "metadata": {},
   "outputs": [],
   "source": [
    "# In statistics, uniform distribution refers to a type of probability distribution in which all outcomes are equally likely.\n",
    "# A deck of cards has within it uniform distributions because the likelihood of drawing\n",
    "# a heart, a club, a diamond, or a spade is equally likely.\n",
    "\n",
    "# A good example of a discrete uniform distribution would be the possible outcomes of rolling a 6-sided die.\n",
    "# The possible values would be 1, 2, 3, 4, 5, or 6. In this case, each of the six numbers has an equal chance of appearing.\n",
    "# Therefore, each time the 6-sided die is thrown, each side has a chance of 1/6."
   ]
  },
  {
   "cell_type": "code",
   "execution_count": null,
   "id": "d80b9359-96e0-4681-89ba-3eea1babe193",
   "metadata": {},
   "outputs": [],
   "source": []
  },
  {
   "cell_type": "code",
   "execution_count": 5,
   "id": "787f5f9c-5937-463f-b6aa-2e51dcedbdb3",
   "metadata": {},
   "outputs": [],
   "source": [
    "# Q8: What is the z score? State the importance of the z score."
   ]
  },
  {
   "cell_type": "code",
   "execution_count": null,
   "id": "74c3bbc5-7bcf-4b98-8c59-e5ff41b8b2fc",
   "metadata": {},
   "outputs": [],
   "source": [
    "# A z-score is important because it tells where your data lies in the data distribution. \n",
    "# For example, if a z-score is 1.5, it is 1.5 standard deviations away from the mean.\n",
    "\n",
    "# A z-score is an example of a standardized score. A z-score measures how many standard \n",
    "# deviations a data point is from the mean in a distribution.\n",
    "\n",
    "# Technically, a z-score is the number of standard deviations from the mean value of the reference population"
   ]
  },
  {
   "cell_type": "code",
   "execution_count": null,
   "id": "a0232333-2766-402c-936b-c93dcbe3bf68",
   "metadata": {},
   "outputs": [],
   "source": [
    "\n"
   ]
  },
  {
   "cell_type": "code",
   "execution_count": null,
   "id": "a76f1343-6b87-45f0-85b6-a24692c9a997",
   "metadata": {},
   "outputs": [],
   "source": [
    "# Q9: What is Central Limit Theorem? State the significance of the Central Limit Theorem"
   ]
  },
  {
   "cell_type": "code",
   "execution_count": null,
   "id": "6244802f-8ede-4972-ae68-d386f8b1e21a",
   "metadata": {},
   "outputs": [],
   "source": [
    "#  Central Limit Theorem:-\n",
    "# The central limit theorem says that the sampling distribution of the mean will always be normally distributed,\n",
    "# as long as the sample size is large enough. Regardless of whether the population has a normal, Poisson, binomial, \n",
    "# or any other distribution, the sampling distribution of the mean will be normal.\n",
    "\n",
    "# One of the most important components of the theorem is that the mean of the sample will be the mean of the entire population. \n",
    "# If we calculate the mean of multiple samples of the population, add them up, and find their average,\n",
    "# the result will be the estimate of the population mean."
   ]
  },
  {
   "cell_type": "code",
   "execution_count": null,
   "id": "6abb8f2f-0b6a-4317-aa0e-877f7ae86280",
   "metadata": {},
   "outputs": [],
   "source": []
  },
  {
   "cell_type": "code",
   "execution_count": 6,
   "id": "223865ee-af3a-4b34-a0e2-105d037ecb63",
   "metadata": {},
   "outputs": [],
   "source": [
    "# Q10: State the assumptions of the Central Limit Theorem"
   ]
  },
  {
   "cell_type": "code",
   "execution_count": null,
   "id": "374d3e10-d12f-46a5-950a-147753dd6ce7",
   "metadata": {},
   "outputs": [],
   "source": [
    "# It needs to be sampled at random. The samples should be unrelated to one another. One sample should not impact the others. \n",
    "# When taking samples without replacement, the sample size should not exceed 10% of the population."
   ]
  }
 ],
 "metadata": {
  "kernelspec": {
   "display_name": "Python 3 (ipykernel)",
   "language": "python",
   "name": "python3"
  },
  "language_info": {
   "codemirror_mode": {
    "name": "ipython",
    "version": 3
   },
   "file_extension": ".py",
   "mimetype": "text/x-python",
   "name": "python",
   "nbconvert_exporter": "python",
   "pygments_lexer": "ipython3",
   "version": "3.10.6"
  }
 },
 "nbformat": 4,
 "nbformat_minor": 5
}
